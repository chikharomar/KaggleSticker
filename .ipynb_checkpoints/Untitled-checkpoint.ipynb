{
 "cells": [
  {
   "cell_type": "code",
   "execution_count": 1,
   "id": "917edb1d-6509-49d8-809d-600025c2aff7",
   "metadata": {},
   "outputs": [
    {
     "name": "stdout",
     "output_type": "stream",
     "text": [
      "   id        date country              store             product  num_sold\n",
      "0   0  2010-01-01  Canada  Discount Stickers   Holographic Goose       NaN\n",
      "1   1  2010-01-01  Canada  Discount Stickers              Kaggle     973.0\n",
      "2   2  2010-01-01  Canada  Discount Stickers        Kaggle Tiers     906.0\n",
      "3   3  2010-01-01  Canada  Discount Stickers            Kerneler     423.0\n",
      "4   4  2010-01-01  Canada  Discount Stickers  Kerneler Dark Mode     491.0\n",
      "Number of entries: 230130\n",
      "Number of different products: 5\n",
      "Different products in the dataset: ['Holographic Goose' 'Kaggle' 'Kaggle Tiers' 'Kerneler'\n",
      " 'Kerneler Dark Mode']\n",
      "Number of different dates: 2557\n",
      "Number of different stores: 3\n",
      "Different stores in the dataset: ['Discount Stickers' 'Stickers for Less' 'Premium Sticker Mart']\n",
      "Number of different countries: 6\n",
      "Different countries in the dataset: ['Canada' 'Finland' 'Italy' 'Kenya' 'Norway' 'Singapore']\n"
     ]
    }
   ],
   "source": [
    "import pandas as pd\n",
    "\n",
    "# Load the CSV file\n",
    "df = pd.read_csv(\"playground-series-s5e1/train.csv\")\n",
    "\n",
    "# Display the first few rows\n",
    "print(df.head())\n",
    "\n",
    "# Count number of entries\n",
    "num_entries = len(df)\n",
    "print(f\"Number of entries: {num_entries}\")\n",
    "\n",
    "# Count unique products\n",
    "num_unique_products = df[\"product\"].nunique()\n",
    "print(f\"Number of different products: {num_unique_products}\")\n",
    "\n",
    "unique_products = df[\"product\"].unique()\n",
    "print(f\"Different products in the dataset: {unique_products}\")\n",
    "\n",
    "# Count unique dates\n",
    "num_unique_dates = df[\"date\"].nunique()\n",
    "print(f\"Number of different dates: {num_unique_dates}\")\n",
    "\n",
    "# Count unique stores\n",
    "num_unique_stores = df[\"store\"].nunique()\n",
    "print(f\"Number of different stores: {num_unique_stores}\")\n",
    "\n",
    "# Print unique country names\n",
    "unique_stores = df[\"store\"].unique()\n",
    "print(f\"Different stores in the dataset: {unique_stores}\")\n",
    "\n",
    "# Count unique countries\n",
    "num_unique_countries = df[\"country\"].nunique()\n",
    "print(f\"Number of different countries: {num_unique_countries}\")\n",
    "\n",
    "# Print unique country names\n",
    "unique_countries = df[\"country\"].unique()\n",
    "print(f\"Different countries in the dataset: {unique_countries}\")\n"
   ]
  },
  {
   "cell_type": "code",
   "execution_count": 2,
   "id": "c3da9291-eae4-45c4-bff1-21a7829d04a3",
   "metadata": {},
   "outputs": [],
   "source": [
    "import matplotlib.pyplot as plt\n",
    "import matplotlib\n",
    "%matplotlib tk\n",
    "# Convert date column to datetime format\n",
    "df[\"date\"] = pd.to_datetime(df[\"date\"])\n",
    "\n",
    "# Filter data for the year 2013\n",
    "df_2013 = df[df[\"date\"].dt.year == 2013]\n",
    "\n",
    "# Aggregate sales data by date and product (sum over all stores)\n",
    "df_grouped_2013 = df_2013.groupby([\"date\", \"product\"])[\"num_sold\"].sum().reset_index()\n",
    "\n",
    "# Get unique products\n",
    "unique_products_2013 = df_grouped_2013[\"product\"].unique()\n",
    "\n",
    "# Plot\n",
    "plt.figure(figsize=(12, 8))\n",
    "for product in unique_products_2013:\n",
    "    product_data = df_grouped_2013[df_grouped_2013[\"product\"] == product]\n",
    "    plt.plot(product_data[\"date\"], product_data[\"num_sold\"], marker=\"o\", linestyle=\"-\", label=product)\n",
    "\n",
    "plt.xlabel(\"Date\")\n",
    "plt.ylabel(\"Total Number Sold\")\n",
    "plt.title(\"Sales Trend of Each Product Over Time in 2013 (Summed Across All Stores)\")\n",
    "plt.xticks(rotation=45)\n",
    "plt.legend(title=\"Products\", bbox_to_anchor=(1.05, 1), loc=\"upper left\")\n",
    "plt.grid(True, linestyle=\"--\", alpha=0.7)\n",
    "plt.show()\n"
   ]
  },
  {
   "cell_type": "code",
   "execution_count": 2,
   "id": "8025279d-5cd9-4fc8-b07d-17da11c0b376",
   "metadata": {},
   "outputs": [
    {
     "ename": "NameError",
     "evalue": "name 'df_grouped_2013' is not defined",
     "output_type": "error",
     "traceback": [
      "\u001b[0;31m---------------------------------------------------------------------------\u001b[0m",
      "\u001b[0;31mNameError\u001b[0m                                 Traceback (most recent call last)",
      "Cell \u001b[0;32mIn[2], line 3\u001b[0m\n\u001b[1;32m      1\u001b[0m \u001b[38;5;66;03m# Find the 10 highest num_sold per product in 2013\u001b[39;00m\n\u001b[1;32m      2\u001b[0m top_sales_per_product \u001b[38;5;241m=\u001b[39m (\n\u001b[0;32m----> 3\u001b[0m     df_grouped_2013\u001b[38;5;241m.\u001b[39mgroupby(\u001b[38;5;124m\"\u001b[39m\u001b[38;5;124mproduct\u001b[39m\u001b[38;5;124m\"\u001b[39m)\n\u001b[1;32m      4\u001b[0m     \u001b[38;5;241m.\u001b[39mapply(\u001b[38;5;28;01mlambda\u001b[39;00m x: x\u001b[38;5;241m.\u001b[39mnlargest(\u001b[38;5;241m5\u001b[39m, \u001b[38;5;124m\"\u001b[39m\u001b[38;5;124mnum_sold\u001b[39m\u001b[38;5;124m\"\u001b[39m))\n\u001b[1;32m      5\u001b[0m     \u001b[38;5;241m.\u001b[39mreset_index(drop\u001b[38;5;241m=\u001b[39m\u001b[38;5;28;01mTrue\u001b[39;00m)\n\u001b[1;32m      6\u001b[0m )\n\u001b[1;32m      8\u001b[0m \u001b[38;5;66;03m# Print the top 10 highest sales per product in 2013\u001b[39;00m\n\u001b[1;32m      9\u001b[0m \u001b[38;5;28mprint\u001b[39m(\u001b[38;5;124m\"\u001b[39m\u001b[38;5;124mTop 5 highest sales per product in 2013:\u001b[39m\u001b[38;5;124m\"\u001b[39m)\n",
      "\u001b[0;31mNameError\u001b[0m: name 'df_grouped_2013' is not defined"
     ]
    }
   ],
   "source": [
    "# Find the 10 highest num_sold per product in 2013\n",
    "top_sales_per_product = (\n",
    "    df_grouped_2013.groupby(\"product\")\n",
    "    .apply(lambda x: x.nlargest(5, \"num_sold\"))\n",
    "    .reset_index(drop=True)\n",
    ")\n",
    "\n",
    "# Print the top 10 highest sales per product in 2013\n",
    "print(\"Top 5 highest sales per product in 2013:\")\n",
    "print(top_sales_per_product)"
   ]
  },
  {
   "cell_type": "code",
   "execution_count": 4,
   "id": "afc5edaa-b0ff-4e9d-af88-1a8ef10fc94d",
   "metadata": {},
   "outputs": [],
   "source": [
    "%matplotlib inline\n",
    "# Load the CSV file\n",
    "df = pd.read_csv(\"playground-series-s5e1/train.csv\")\n",
    "\n",
    "# Convert date column to datetime format\n",
    "df[\"date\"] = pd.to_datetime(df[\"date\"])\n",
    "\n",
    "# Aggregate sales data by date and product (sum over all stores)\n",
    "df_grouped = df.groupby([\"date\", \"product\"])[\"num_sold\"].sum().reset_index()\n",
    "\n",
    "# Get unique products\n",
    "unique_products = df_grouped[\"product\"].unique()\n",
    "\n",
    "# Plot\n",
    "plt.figure(figsize=(12, 8))\n",
    "for product in unique_products:\n",
    "    product_data = df_grouped[df_grouped[\"product\"] == product]\n",
    "    plt.plot(product_data[\"date\"], product_data[\"num_sold\"], marker=\"o\", linestyle=\"-\", label=product)\n",
    "\n",
    "plt.xlabel(\"Date\")\n",
    "plt.ylabel(\"Total Number Sold\")\n",
    "plt.title(\"Sales Trend of Each Product Over Time (Summed Across All Stores)\")\n",
    "plt.xticks(rotation=45)\n",
    "plt.legend(title=\"Products\", bbox_to_anchor=(1.05, 1), loc=\"upper left\")\n",
    "plt.grid(True, linestyle=\"--\", alpha=0.7)\n",
    "plt.show()\n"
   ]
  },
  {
   "cell_type": "code",
   "execution_count": null,
   "id": "d31f314b-0172-4a19-b24c-e7b4971b6d6f",
   "metadata": {},
   "outputs": [],
   "source": []
  }
 ],
 "metadata": {
  "kernelspec": {
   "display_name": "Python 3 (ipykernel)",
   "language": "python",
   "name": "python3"
  },
  "language_info": {
   "codemirror_mode": {
    "name": "ipython",
    "version": 3
   },
   "file_extension": ".py",
   "mimetype": "text/x-python",
   "name": "python",
   "nbconvert_exporter": "python",
   "pygments_lexer": "ipython3",
   "version": "3.12.7"
  }
 },
 "nbformat": 4,
 "nbformat_minor": 5
}
